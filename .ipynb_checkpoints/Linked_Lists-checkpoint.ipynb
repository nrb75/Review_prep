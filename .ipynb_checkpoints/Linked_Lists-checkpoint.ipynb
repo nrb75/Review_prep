{
 "cells": [
  {
   "cell_type": "markdown",
   "metadata": {},
   "source": [
    "Linked Lists"
   ]
  },
  {
   "cell_type": "code",
   "execution_count": 33,
   "metadata": {},
   "outputs": [],
   "source": [
    "class linked_listnode:\n",
    "    def __init__(self, value):\n",
    "        self.value = value\n",
    "        self.nextnode=None\n",
    "        \n",
    "    def traversenode(self):\n",
    "        node = self\n",
    "        while node != None:\n",
    "            print(node.value)\n",
    "            node=node.nextnode"
   ]
  },
  {
   "cell_type": "code",
   "execution_count": null,
   "metadata": {},
   "outputs": [],
   "source": [
    "class Node: # Question: is it a good practice to capitalize class names?\n",
    "  #Answer: I think it's mostly just preference- most things I find capitalize them, though, so maybe\n",
    "  def __init__(self, value):\n",
    "      self.value = value\n",
    "      self.next = None\n",
    "        \n",
    "  def traverse(self):\n",
    "    node = self\n",
    "    while node != None: #as long as there is a node there, keep going\n",
    "        print(node.value) #print value\n",
    "        node = node.next #now make the node whatever your next pointer is pointing\n",
    "        # to (NOTE, this can be a node OR a NULL value, which is why you want to check for null value at the start of the while loop)\n"
   ]
  },
  {
   "cell_type": "code",
   "execution_count": 27,
   "metadata": {},
   "outputs": [],
   "source": [
    "#need to tell it what each node's value is\n",
    "\n",
    "node1=Node(10)\n",
    "node2=Node(20)\n",
    "node3=Node(30)\n",
    "\n",
    "#need to tell it where to point\n",
    "node1.next=node2\n",
    "node2.next=node3"
   ]
  },
  {
   "cell_type": "code",
   "execution_count": 29,
   "metadata": {},
   "outputs": [
    {
     "name": "stdout",
     "output_type": "stream",
     "text": [
      "10\n",
      "20\n",
      "30\n"
     ]
    }
   ],
   "source": [
    "node1.traverse()"
   ]
  },
  {
   "cell_type": "code",
   "execution_count": 34,
   "metadata": {},
   "outputs": [],
   "source": [
    "#need to tell it what each node's value is\n",
    "node1=linked_listnode(10)\n",
    "node2=linked_listnode(20)\n",
    "node3=linked_listnode(30)\n",
    "\n",
    "#need to tell it where to point\n",
    "node1.nextnode=node2\n",
    "node2.nextnode=node3"
   ]
  },
  {
   "cell_type": "markdown",
   "metadata": {},
   "source": [
    "Traverse theh linked list"
   ]
  },
  {
   "cell_type": "code",
   "execution_count": 36,
   "metadata": {},
   "outputs": [
    {
     "name": "stdout",
     "output_type": "stream",
     "text": [
      "10\n",
      "20\n",
      "30\n"
     ]
    }
   ],
   "source": [
    "node1.traversenode()"
   ]
  },
  {
   "cell_type": "code",
   "execution_count": null,
   "metadata": {},
   "outputs": [],
   "source": []
  }
 ],
 "metadata": {
  "kernelspec": {
   "display_name": "Python 3",
   "language": "python",
   "name": "python3"
  },
  "language_info": {
   "codemirror_mode": {
    "name": "ipython",
    "version": 3
   },
   "file_extension": ".py",
   "mimetype": "text/x-python",
   "name": "python",
   "nbconvert_exporter": "python",
   "pygments_lexer": "ipython3",
   "version": "3.6.5"
  }
 },
 "nbformat": 4,
 "nbformat_minor": 2
}
